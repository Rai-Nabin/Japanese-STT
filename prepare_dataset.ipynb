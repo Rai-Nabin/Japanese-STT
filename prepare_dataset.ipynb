{
 "cells": [
  {
   "cell_type": "markdown",
   "metadata": {},
   "source": [
    "## Prepare Dataset"
   ]
  },
  {
   "cell_type": "markdown",
   "metadata": {},
   "source": [
    "**Download Common Voice Dataset: https://commonvoice.mozilla.org/en/datasets**"
   ]
  },
  {
   "cell_type": "code",
   "execution_count": 4,
   "metadata": {},
   "outputs": [
    {
     "name": "stdout",
     "output_type": "stream",
     "text": [
      "Loading TSV file:  /home/nabin/office-work/Japanese-STT/data/cv-corpus-10-delta/test.tsv\n",
      "Importing mp3 files...\n",
      "Progress |###########################################          |  82% completedImported 376 samples.\n",
      "Skipped 2 samples that failed on transcript validation.\n",
      "Skipped 10 samples that were longer than 10 seconds.\n",
      "Final amount of imported audio: 0:36:51 from 0:38:48.\n",
      "Saving new Coqui STT-formatted CSV file to:  /home/nabin/office-work/Japanese-STT/data/cv-corpus-10-delta/clips/test.csv\n",
      "Writing CSV file for train.py as:  /home/nabin/office-work/Japanese-STT/data/cv-corpus-10-delta/clips/test.csv\n",
      "Progress |#####################################################| 100% completed\n",
      "Loading TSV file:  /home/nabin/office-work/Japanese-STT/data/cv-corpus-10-delta/dev.tsv\n",
      "Importing mp3 files...\n",
      "Progress |#####################################                |  70% completedImported 124 samples.\n",
      "Skipped 1 samples that failed on transcript validation.\n",
      "Final amount of imported audio: 0:10:43 from 0:10:48.\n",
      "Saving new Coqui STT-formatted CSV file to:  /home/nabin/office-work/Japanese-STT/data/cv-corpus-10-delta/clips/dev.csv\n",
      "Writing CSV file for train.py as:  /home/nabin/office-work/Japanese-STT/data/cv-corpus-10-delta/clips/dev.csv\n",
      "Progress |#####################################################| 100% completed\n",
      "Loading TSV file:  /home/nabin/office-work/Japanese-STT/data/cv-corpus-10-delta/train.tsv\n",
      "Importing mp3 files...\n",
      "Progress |#####################################################| 100% completedImported 697 samples.\n",
      "Skipped 2 samples that failed on transcript validation.\n",
      "Final amount of imported audio: 0:53:35 from 0:53:46.\n",
      "Saving new Coqui STT-formatted CSV file to:  /home/nabin/office-work/Japanese-STT/data/cv-corpus-10-delta/clips/train.csv\n",
      "Writing CSV file for train.py as:  /home/nabin/office-work/Japanese-STT/data/cv-corpus-10-delta/clips/train.csv\n",
      "Progress |#####################################################| 100% completed\n",
      "Loading TSV file:  /home/nabin/office-work/Japanese-STT/data/cv-corpus-10-delta/validated.tsv\n",
      "Importing mp3 files...\n",
      "Progress |###################################################  |  96% completedImported 1205 samples.\n",
      "Skipped 5 samples that failed on transcript validation.\n",
      "Skipped 10 samples that were longer than 10 seconds.\n",
      "Final amount of imported audio: 1:41:43 from 1:43:56.\n",
      "Saving new Coqui STT-formatted CSV file to:  /home/nabin/office-work/Japanese-STT/data/cv-corpus-10-delta/clips/validated.csv\n",
      "Writing CSV file for train.py as:  /home/nabin/office-work/Japanese-STT/data/cv-corpus-10-delta/clips/validated.csv\n",
      "Progress |#####################################################| 100% completed\n",
      "Saving new Coqui STT-formatted CSV file to:  /home/nabin/office-work/Japanese-STT/data/cv-corpus-10-delta/clips/train-all.csv\n",
      "Writing CSV file for train.py as:  /home/nabin/office-work/Japanese-STT/data/cv-corpus-10-delta/clips/train-all.csv\n",
      "Progress |#####################################################| 100% completed\n",
      "Loading TSV file:  /home/nabin/office-work/Japanese-STT/data/cv-corpus-10-delta/other.tsv\n",
      "Importing mp3 files...\n",
      "Progress |#########################################            |  77% completedImported 106 samples.\n",
      "Skipped 1 samples that failed on transcript validation.\n",
      "Final amount of imported audio: 0:10:24 from 0:10:33.\n",
      "Saving new Coqui STT-formatted CSV file to:  /home/nabin/office-work/Japanese-STT/data/cv-corpus-10-delta/clips/other.csv\n",
      "Writing CSV file for train.py as:  /home/nabin/office-work/Japanese-STT/data/cv-corpus-10-delta/clips/other.csv\n",
      "Progress |#####################################################| 100% completed\n"
     ]
    }
   ],
   "source": [
    "!python STT/bin/import_cv2.py data/cv-corpus-10-delta/ --filter_alphabet data/alphabet-jpn.txt --validate_label_locale my_validation.py"
   ]
  }
 ],
 "metadata": {
  "kernelspec": {
   "display_name": "Python 3.7.0 ('venv': venv)",
   "language": "python",
   "name": "python3"
  },
  "language_info": {
   "codemirror_mode": {
    "name": "ipython",
    "version": 3
   },
   "file_extension": ".py",
   "mimetype": "text/x-python",
   "name": "python",
   "nbconvert_exporter": "python",
   "pygments_lexer": "ipython3",
   "version": "3.7.0"
  },
  "orig_nbformat": 4,
  "vscode": {
   "interpreter": {
    "hash": "b324ffdcc398f29b17288a8fd58be02b680f16d9101554ab09bdfe77c93f447b"
   }
  }
 },
 "nbformat": 4,
 "nbformat_minor": 2
}
